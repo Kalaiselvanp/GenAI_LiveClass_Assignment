{
 "cells": [
  {
   "cell_type": "markdown",
   "id": "3cdadfb7",
   "metadata": {},
   "source": [
    "# Text Preprocessing Techniques"
   ]
  },
  {
   "cell_type": "code",
   "execution_count": 2,
   "id": "8742234a",
   "metadata": {},
   "outputs": [],
   "source": [
    "#importing the required libraries\n",
    "import pandas as pd\n",
    "import re\n",
    "import string\n",
    "import textblob\n",
    "import emoji\n",
    "import nltk"
   ]
  },
  {
   "cell_type": "code",
   "execution_count": 3,
   "id": "66b3206f",
   "metadata": {},
   "outputs": [],
   "source": [
    "#reading data\n",
    "data = pd.read_csv(\"C:/Users/pkalaiselvan/OneDrive - Temenos/Desktop/Live Class Assignement/Twitter_Customer_Support.csv\")"
   ]
  },
  {
   "cell_type": "code",
   "execution_count": 4,
   "id": "03e73bf6",
   "metadata": {},
   "outputs": [
    {
     "data": {
      "text/html": [
       "<div>\n",
       "<style scoped>\n",
       "    .dataframe tbody tr th:only-of-type {\n",
       "        vertical-align: middle;\n",
       "    }\n",
       "\n",
       "    .dataframe tbody tr th {\n",
       "        vertical-align: top;\n",
       "    }\n",
       "\n",
       "    .dataframe thead th {\n",
       "        text-align: right;\n",
       "    }\n",
       "</style>\n",
       "<table border=\"1\" class=\"dataframe\">\n",
       "  <thead>\n",
       "    <tr style=\"text-align: right;\">\n",
       "      <th></th>\n",
       "      <th>tweet_id</th>\n",
       "      <th>author_id</th>\n",
       "      <th>inbound</th>\n",
       "      <th>created_at</th>\n",
       "      <th>text</th>\n",
       "      <th>response_tweet_id</th>\n",
       "      <th>in_response_to_tweet_id</th>\n",
       "    </tr>\n",
       "  </thead>\n",
       "  <tbody>\n",
       "    <tr>\n",
       "      <th>0</th>\n",
       "      <td>1</td>\n",
       "      <td>sprintcare</td>\n",
       "      <td>False</td>\n",
       "      <td>Tue Oct 31 22:10:47 +0000 2017</td>\n",
       "      <td>@115712 I understand. I would like to assist y...</td>\n",
       "      <td>2</td>\n",
       "      <td>3.0</td>\n",
       "    </tr>\n",
       "    <tr>\n",
       "      <th>1</th>\n",
       "      <td>2</td>\n",
       "      <td>115712</td>\n",
       "      <td>True</td>\n",
       "      <td>Tue Oct 31 22:11:45 +0000 2017</td>\n",
       "      <td>@sprintcare and how do you propose we do that</td>\n",
       "      <td>NaN</td>\n",
       "      <td>1.0</td>\n",
       "    </tr>\n",
       "    <tr>\n",
       "      <th>2</th>\n",
       "      <td>3</td>\n",
       "      <td>115712</td>\n",
       "      <td>True</td>\n",
       "      <td>Tue Oct 31 22:08:27 +0000 2017</td>\n",
       "      <td>@sprintcare I have sent several private messag...</td>\n",
       "      <td>1</td>\n",
       "      <td>4.0</td>\n",
       "    </tr>\n",
       "    <tr>\n",
       "      <th>3</th>\n",
       "      <td>4</td>\n",
       "      <td>sprintcare</td>\n",
       "      <td>False</td>\n",
       "      <td>Tue Oct 31 21:54:49 +0000 2017</td>\n",
       "      <td>@115712 Please send us a Private Message so th...</td>\n",
       "      <td>3</td>\n",
       "      <td>5.0</td>\n",
       "    </tr>\n",
       "    <tr>\n",
       "      <th>4</th>\n",
       "      <td>5</td>\n",
       "      <td>115712</td>\n",
       "      <td>True</td>\n",
       "      <td>Tue Oct 31 21:49:35 +0000 2017</td>\n",
       "      <td>@sprintcare I did.</td>\n",
       "      <td>4</td>\n",
       "      <td>6.0</td>\n",
       "    </tr>\n",
       "  </tbody>\n",
       "</table>\n",
       "</div>"
      ],
      "text/plain": [
       "   tweet_id   author_id  inbound                      created_at  \\\n",
       "0         1  sprintcare    False  Tue Oct 31 22:10:47 +0000 2017   \n",
       "1         2      115712     True  Tue Oct 31 22:11:45 +0000 2017   \n",
       "2         3      115712     True  Tue Oct 31 22:08:27 +0000 2017   \n",
       "3         4  sprintcare    False  Tue Oct 31 21:54:49 +0000 2017   \n",
       "4         5      115712     True  Tue Oct 31 21:49:35 +0000 2017   \n",
       "\n",
       "                                                text response_tweet_id  \\\n",
       "0  @115712 I understand. I would like to assist y...                 2   \n",
       "1      @sprintcare and how do you propose we do that               NaN   \n",
       "2  @sprintcare I have sent several private messag...                 1   \n",
       "3  @115712 Please send us a Private Message so th...                 3   \n",
       "4                                 @sprintcare I did.                 4   \n",
       "\n",
       "   in_response_to_tweet_id  \n",
       "0                      3.0  \n",
       "1                      1.0  \n",
       "2                      4.0  \n",
       "3                      5.0  \n",
       "4                      6.0  "
      ]
     },
     "execution_count": 4,
     "metadata": {},
     "output_type": "execute_result"
    }
   ],
   "source": [
    "#viewing data\n",
    "data.head()"
   ]
  },
  {
   "cell_type": "markdown",
   "id": "79ab7f50",
   "metadata": {},
   "source": [
    "### Uppercase"
   ]
  },
  {
   "cell_type": "code",
   "execution_count": 5,
   "id": "1019529d",
   "metadata": {},
   "outputs": [
    {
     "data": {
      "text/plain": [
       "0          @115712 I UNDERSTAND. I WOULD LIKE TO ASSIST Y...\n",
       "1              @SPRINTCARE AND HOW DO YOU PROPOSE WE DO THAT\n",
       "2          @SPRINTCARE I HAVE SENT SEVERAL PRIVATE MESSAG...\n",
       "3          @115712 PLEASE SEND US A PRIVATE MESSAGE SO TH...\n",
       "4                                         @SPRINTCARE I DID.\n",
       "                                 ...                        \n",
       "1048570    WHEN @MORRISONS DOES YOU GOOD 🙌 HTTPS://T.CO/6...\n",
       "1048571    @393038 ... ALONG WITH YOUR MORE CARD AND ADDR...\n",
       "1048572                  @MORRISONS  HTTPS://T.CO/MNGEW3E7N8\n",
       "1048573    @MORRISONS WATFORD, BOUGHT CRAYFISH TAILS THE ...\n",
       "1048574    @393038 HI ADAM, I'M REALLY SORRY ABOUT THIS. ...\n",
       "Name: upper_case, Length: 1048575, dtype: object"
      ]
     },
     "execution_count": 5,
     "metadata": {},
     "output_type": "execute_result"
    }
   ],
   "source": [
    "#converting to Uppercase\n",
    "data[\"upper_case\"] = data[\"text\"].str.upper()\n",
    "data[\"upper_case\"]"
   ]
  },
  {
   "cell_type": "markdown",
   "id": "01ab6f6c",
   "metadata": {},
   "source": [
    "### Lowercase"
   ]
  },
  {
   "cell_type": "code",
   "execution_count": 6,
   "id": "d37e4488",
   "metadata": {},
   "outputs": [
    {
     "data": {
      "text/plain": [
       "0          @115712 i understand. i would like to assist y...\n",
       "1              @sprintcare and how do you propose we do that\n",
       "2          @sprintcare i have sent several private messag...\n",
       "3          @115712 please send us a private message so th...\n",
       "4                                         @sprintcare i did.\n",
       "                                 ...                        \n",
       "1048570    when @morrisons does you good 🙌 https://t.co/6...\n",
       "1048571    @393038 ... along with your more card and addr...\n",
       "1048572                  @morrisons  https://t.co/mngew3e7n8\n",
       "1048573    @morrisons watford, bought crayfish tails the ...\n",
       "1048574    @393038 hi adam, i'm really sorry about this. ...\n",
       "Name: lower_case, Length: 1048575, dtype: object"
      ]
     },
     "execution_count": 6,
     "metadata": {},
     "output_type": "execute_result"
    }
   ],
   "source": [
    "#converting to lowercase\n",
    "data[\"lower_case\"] = data[\"text\"].str.lower()\n",
    "data[\"lower_case\"]"
   ]
  },
  {
   "cell_type": "code",
   "execution_count": 7,
   "id": "6edc8b8f",
   "metadata": {},
   "outputs": [
    {
     "data": {
      "text/plain": [
       "0          @115712 I understand. I would like to assist y...\n",
       "1              @sprintcare and how do you propose we do that\n",
       "2          @sprintcare I have sent several private messag...\n",
       "3          @115712 Please send us a Private Message so th...\n",
       "4                                         @sprintcare I did.\n",
       "                                 ...                        \n",
       "1048570    When @Morrisons does you good 🙌 https://t.co/6...\n",
       "1048571    @393038 ... Along with your More card and addr...\n",
       "1048572                  @Morrisons  https://t.co/mnGeW3E7N8\n",
       "1048573    @Morrisons watford, bought crayfish tails the ...\n",
       "1048574    @393038 Hi Adam, I'm really sorry about this. ...\n",
       "Name: text, Length: 1048575, dtype: object"
      ]
     },
     "execution_count": 7,
     "metadata": {},
     "output_type": "execute_result"
    }
   ],
   "source": [
    "data[\"text\"]"
   ]
  },
  {
   "cell_type": "markdown",
   "id": "e99e3ef2",
   "metadata": {},
   "source": [
    "### Removing HTML Tags"
   ]
  },
  {
   "cell_type": "code",
   "execution_count": 8,
   "id": "54b8f7dd",
   "metadata": {},
   "outputs": [],
   "source": [
    "#defining function to remove html tags\n",
    "def remove_html_tags(text):\n",
    "    pattern = re.compile('<.*?>')\n",
    "    return pattern.sub(\"\", text)"
   ]
  },
  {
   "cell_type": "code",
   "execution_count": 9,
   "id": "01da5999",
   "metadata": {},
   "outputs": [
    {
     "data": {
      "text/plain": [
       "0          @115712 I understand. I would like to assist y...\n",
       "1              @sprintcare and how do you propose we do that\n",
       "2          @sprintcare I have sent several private messag...\n",
       "3          @115712 Please send us a Private Message so th...\n",
       "4                                         @sprintcare I did.\n",
       "                                 ...                        \n",
       "1048570    When @Morrisons does you good 🙌 https://t.co/6...\n",
       "1048571    @393038 ... Along with your More card and addr...\n",
       "1048572                  @Morrisons  https://t.co/mnGeW3E7N8\n",
       "1048573    @Morrisons watford, bought crayfish tails the ...\n",
       "1048574    @393038 Hi Adam, I'm really sorry about this. ...\n",
       "Name: text, Length: 1048575, dtype: object"
      ]
     },
     "execution_count": 9,
     "metadata": {},
     "output_type": "execute_result"
    }
   ],
   "source": [
    "#applying the remove html tag functiont to 'text' column\n",
    "data[\"text\"]=data[\"text\"].apply(remove_html_tags)\n",
    "data[\"text\"]"
   ]
  },
  {
   "cell_type": "markdown",
   "id": "6cf047a1",
   "metadata": {},
   "source": [
    "### Remvoing URL's"
   ]
  },
  {
   "cell_type": "code",
   "execution_count": 10,
   "id": "e9be8fab",
   "metadata": {},
   "outputs": [],
   "source": [
    "#defining function to remove url\n",
    "def remove_url(text):\n",
    "    pattern=re.compile(r'https?://\\S+|www\\.\\S+')\n",
    "    return pattern.sub(\"\", text)"
   ]
  },
  {
   "cell_type": "code",
   "execution_count": 11,
   "id": "3eaaa474",
   "metadata": {},
   "outputs": [
    {
     "data": {
      "text/plain": [
       "0          @115712 I understand. I would like to assist y...\n",
       "1              @sprintcare and how do you propose we do that\n",
       "2          @sprintcare I have sent several private messag...\n",
       "3          @115712 Please send us a Private Message so th...\n",
       "4                                         @sprintcare I did.\n",
       "                                 ...                        \n",
       "1048570                     When @Morrisons does you good 🙌 \n",
       "1048571    @393038 ... Along with your More card and addr...\n",
       "1048572                                         @Morrisons  \n",
       "1048573    @Morrisons watford, bought crayfish tails the ...\n",
       "1048574    @393038 Hi Adam, I'm really sorry about this. ...\n",
       "Name: text, Length: 1048575, dtype: object"
      ]
     },
     "execution_count": 11,
     "metadata": {},
     "output_type": "execute_result"
    }
   ],
   "source": [
    "#applying the remove url functiont to 'text' column\n",
    "data[\"text\"]=data[\"text\"].apply(remove_url)\n",
    "data[\"text\"]"
   ]
  },
  {
   "cell_type": "markdown",
   "id": "b00f8208",
   "metadata": {},
   "source": [
    "### Removing Punctuation"
   ]
  },
  {
   "cell_type": "code",
   "execution_count": 12,
   "id": "43e73c95",
   "metadata": {},
   "outputs": [],
   "source": [
    "#defining to exclude punctuation\n",
    "exclude = string.punctuation"
   ]
  },
  {
   "cell_type": "code",
   "execution_count": 13,
   "id": "2e692463",
   "metadata": {},
   "outputs": [],
   "source": [
    "#defining function to remove punctuations\n",
    "def remove_punctuation(text):\n",
    "    for char in exclude:\n",
    "        text=text.replace(char,\"\")\n",
    "    return text        "
   ]
  },
  {
   "cell_type": "code",
   "execution_count": 14,
   "id": "19029574",
   "metadata": {},
   "outputs": [
    {
     "data": {
      "text/plain": [
       "0          115712 I understand I would like to assist you...\n",
       "1               sprintcare and how do you propose we do that\n",
       "2          sprintcare I have sent several private message...\n",
       "3          115712 Please send us a Private Message so tha...\n",
       "4                                           sprintcare I did\n",
       "                                 ...                        \n",
       "1048570                      When Morrisons does you good 🙌 \n",
       "1048571    393038  Along with your More card and address ...\n",
       "1048572                                          Morrisons  \n",
       "1048573    Morrisons watford bought crayfish tails the ot...\n",
       "1048574    393038 Hi Adam Im really sorry about this Can ...\n",
       "Name: text, Length: 1048575, dtype: object"
      ]
     },
     "execution_count": 14,
     "metadata": {},
     "output_type": "execute_result"
    }
   ],
   "source": [
    "data[\"text\"]=data[\"text\"].apply(remove_punctuation)\n",
    "data[\"text\"]"
   ]
  },
  {
   "cell_type": "markdown",
   "id": "5d5d0a76",
   "metadata": {},
   "source": [
    "### Removing Emoji's"
   ]
  },
  {
   "cell_type": "code",
   "execution_count": 15,
   "id": "9de8ec50",
   "metadata": {},
   "outputs": [],
   "source": [
    "#defining function to remove emojis\n",
    "def remove_emoji(text):\n",
    "    cleaned_text=emoji.demojize(text)\n",
    "    return cleaned_text"
   ]
  },
  {
   "cell_type": "code",
   "execution_count": 16,
   "id": "378ae199",
   "metadata": {},
   "outputs": [
    {
     "data": {
      "text/plain": [
       "0          115712 I understand I would like to assist you...\n",
       "1               sprintcare and how do you propose we do that\n",
       "2          sprintcare I have sent several private message...\n",
       "3          115712 Please send us a Private Message so tha...\n",
       "4                                           sprintcare I did\n",
       "                                 ...                        \n",
       "1048570        When Morrisons does you good :raising_hands: \n",
       "1048571    393038  Along with your More card and address ...\n",
       "1048572                                          Morrisons  \n",
       "1048573    Morrisons watford bought crayfish tails the ot...\n",
       "1048574    393038 Hi Adam Im really sorry about this Can ...\n",
       "Name: text, Length: 1048575, dtype: object"
      ]
     },
     "execution_count": 16,
     "metadata": {},
     "output_type": "execute_result"
    }
   ],
   "source": [
    "data[\"text\"]=data[\"text\"].apply(remove_emoji)\n",
    "data[\"text\"]"
   ]
  },
  {
   "cell_type": "markdown",
   "id": "2b35dcfb",
   "metadata": {},
   "source": [
    "### Spelling Correction"
   ]
  },
  {
   "cell_type": "code",
   "execution_count": 17,
   "id": "815110d2",
   "metadata": {},
   "outputs": [],
   "source": [
    "#Spelling correction\n",
    "from textblob import TextBlob"
   ]
  },
  {
   "cell_type": "code",
   "execution_count": 18,
   "id": "eee5e6ff",
   "metadata": {},
   "outputs": [],
   "source": [
    "#defining function to correct the spellings\n",
    "def spelling_correct(text):\n",
    "    blob = TextBlob(text)\n",
    "    corrected_text = str(blob.correct())\n",
    "    return corrected_text"
   ]
  },
  {
   "cell_type": "code",
   "execution_count": null,
   "id": "729b3d6a",
   "metadata": {},
   "outputs": [],
   "source": [
    "data[\"text\"]=data[\"text\"].apply(spelling_correct)\n",
    "data[\"text\"]"
   ]
  },
  {
   "cell_type": "markdown",
   "id": "2b6500d4",
   "metadata": {},
   "source": [
    "### Slangwords"
   ]
  },
  {
   "cell_type": "code",
   "execution_count": 19,
   "id": "8743494d",
   "metadata": {},
   "outputs": [],
   "source": [
    "#creating slang dictionary\n",
    "slang_dict = {\n",
    "    \"$\" : \" dollar \",\n",
    "    \"€\" : \" euro \",\n",
    "    \"4ao\" : \"for adults only\",\n",
    "    \"a.m\" : \"before midday\",\n",
    "    \"a3\" : \"anytime anywhere anyplace\",\n",
    "    \"aamof\" : \"as a matter of fact\",\n",
    "    \"acct\" : \"account\",\n",
    "    \"adih\" : \"another day in hell\",\n",
    "    \"afaic\" : \"as far as i am concerned\",\n",
    "    \"afaict\" : \"as far as i can tell\",\n",
    "    \"afaik\" : \"as far as i know\",\n",
    "    \"afair\" : \"as far as i remember\",\n",
    "    \"afk\" : \"away from keyboard\",\n",
    "    \"app\" : \"application\",\n",
    "    \"approx\" : \"approximately\",\n",
    "    \"apps\" : \"applications\",\n",
    "    \"asap\" : \"as soon as possible\",\n",
    "    \"asl\" : \"age, sex, location\",\n",
    "    \"atk\" : \"at the keyboard\",\n",
    "    \"ave.\" : \"avenue\",\n",
    "    \"aymm\" : \"are you my mother\",\n",
    "    \"ayor\" : \"at your own risk\", \n",
    "    \"b&b\" : \"bed and breakfast\",\n",
    "    \"b+b\" : \"bed and breakfast\",\n",
    "    \"b.c\" : \"before christ\",\n",
    "    \"b2b\" : \"business to business\",\n",
    "    \"b2c\" : \"business to customer\",\n",
    "    \"b4\" : \"before\",\n",
    "    \"b4n\" : \"bye for now\",\n",
    "    \"b@u\" : \"back at you\",\n",
    "    \"bae\" : \"before anyone else\",\n",
    "    \"bak\" : \"back at keyboard\",\n",
    "    \"bbbg\" : \"bye bye be good\",\n",
    "    \"bbc\" : \"british broadcasting corporation\",\n",
    "    \"bbias\" : \"be back in a second\",\n",
    "    \"bbl\" : \"be back later\",\n",
    "    \"bbs\" : \"be back soon\",\n",
    "    \"be4\" : \"before\",\n",
    "    \"bfn\" : \"bye for now\",\n",
    "    \"blvd\" : \"boulevard\",\n",
    "    \"bout\" : \"about\",\n",
    "    \"brb\" : \"be right back\",\n",
    "    \"bros\" : \"brothers\",\n",
    "    \"brt\" : \"be right there\",\n",
    "    \"bsaaw\" : \"big smile and a wink\",\n",
    "    \"btw\" : \"by the way\",\n",
    "    \"bwl\" : \"bursting with laughter\",\n",
    "    \"c/o\" : \"care of\",\n",
    "    \"cet\" : \"central european time\",\n",
    "    \"cf\" : \"compare\",\n",
    "    \"cia\" : \"central intelligence agency\",\n",
    "    \"csl\" : \"can not stop laughing\",\n",
    "    \"cu\" : \"see you\",\n",
    "    \"cul8r\" : \"see you later\",\n",
    "    \"cv\" : \"curriculum vitae\",\n",
    "    \"cwot\" : \"complete waste of time\",\n",
    "    \"cya\" : \"see you\",\n",
    "    \"cyt\" : \"see you tomorrow\",\n",
    "    \"dae\" : \"does anyone else\",\n",
    "    \"dbmib\" : \"do not bother me i am busy\",\n",
    "    \"diy\" : \"do it yourself\",\n",
    "    \"dm\" : \"direct message\",\n",
    "    \"dwh\" : \"during work hours\",\n",
    "    \"e123\" : \"easy as one two three\",\n",
    "    \"eet\" : \"eastern european time\",\n",
    "    \"eg\" : \"example\",\n",
    "    \"embm\" : \"early morning business meeting\",\n",
    "    \"encl\" : \"enclosed\",\n",
    "    \"encl.\" : \"enclosed\",\n",
    "    \"etc\" : \"and so on\",\n",
    "    \"faq\" : \"frequently asked questions\",\n",
    "    \"fawc\" : \"for anyone who cares\",\n",
    "    \"fb\" : \"facebook\",\n",
    "    \"fc\" : \"fingers crossed\",\n",
    "    \"fig\" : \"figure\",\n",
    "    \"fimh\" : \"forever in my heart\", \n",
    "    \"ft.\" : \"feet\",\n",
    "    \"ft\" : \"featuring\",\n",
    "    \"ftl\" : \"for the loss\",\n",
    "    \"ftw\" : \"for the win\",\n",
    "    \"fwiw\" : \"for what it is worth\",\n",
    "    \"fyi\" : \"for your information\",\n",
    "    \"g9\" : \"genius\",\n",
    "    \"gahoy\" : \"get a hold of yourself\",\n",
    "    \"gal\" : \"get a life\",\n",
    "    \"gcse\" : \"general certificate of secondary education\",\n",
    "    \"gfn\" : \"gone for now\",\n",
    "    \"gg\" : \"good game\",\n",
    "    \"gl\" : \"good luck\",\n",
    "    \"glhf\" : \"good luck have fun\",\n",
    "    \"gmt\" : \"greenwich mean time\",\n",
    "    \"gmta\" : \"great minds think alike\",\n",
    "    \"gn\" : \"good night\",\n",
    "    \"g.o.a.t\" : \"greatest of all time\",\n",
    "    \"goat\" : \"greatest of all time\",\n",
    "    \"goi\" : \"get over it\",\n",
    "    \"gps\" : \"global positioning system\",\n",
    "    \"gr8\" : \"great\",\n",
    "    \"gratz\" : \"congratulations\",\n",
    "    \"gyal\" : \"girl\",\n",
    "    \"h&c\" : \"hot and cold\",\n",
    "    \"hp\" : \"horsepower\",\n",
    "    \"hr\" : \"hour\",\n",
    "    \"hrh\" : \"his royal highness\",\n",
    "    \"ht\" : \"height\",\n",
    "    \"ibrb\" : \"i will be right back\",\n",
    "    \"ic\" : \"i see\",\n",
    "    \"icq\" : \"i seek you\",\n",
    "    \"icymi\" : \"in case you missed it\",\n",
    "    \"idc\" : \"i do not care\",\n",
    "    \"idgadf\" : \"i do not give a damn fuck\",\n",
    "    \"idgaf\" : \"i do not give a fuck\",\n",
    "    \"idk\" : \"i do not know\",\n",
    "    \"ie\" : \"that is\",\n",
    "    \"i.e\" : \"that is\",\n",
    "    \"ifyp\" : \"i feel your pain\",\n",
    "    \"IG\" : \"instagram\",\n",
    "    \"iirc\" : \"if i remember correctly\",\n",
    "    \"ilu\" : \"i love you\",\n",
    "    \"ily\" : \"i love you\",\n",
    "    \"imho\" : \"in my humble opinion\",\n",
    "    \"imo\" : \"in my opinion\",\n",
    "    \"imu\" : \"i miss you\",\n",
    "    \"iow\" : \"in other words\",\n",
    "    \"irl\" : \"in real life\",\n",
    "    \"j4f\" : \"just for fun\",\n",
    "    \"jic\" : \"just in case\",\n",
    "    \"jk\" : \"just kidding\",\n",
    "    \"jsyk\" : \"just so you know\",\n",
    "    \"l8r\" : \"later\",\n",
    "    \"lb\" : \"pound\",\n",
    "    \"lbs\" : \"pounds\",\n",
    "    \"ldr\" : \"long distance relationship\",\n",
    "    \"lmao\" : \"laugh my ass off\",\n",
    "    \"lmfao\" : \"laugh my fucking ass off\",\n",
    "    \"lol\" : \"laughing out loud\",\n",
    "    \"ltd\" : \"limited\",\n",
    "    \"ltns\" : \"long time no see\",\n",
    "    \"m8\" : \"mate\",\n",
    "    \"mf\" : \"motherfucker\",\n",
    "    \"mfs\" : \"motherfuckers\",\n",
    "    \"mfw\" : \"my face when\",\n",
    "    \"mofo\" : \"motherfucker\",\n",
    "    \"mph\" : \"miles per hour\",\n",
    "    \"mr\" : \"mister\",\n",
    "    \"mrw\" : \"my reaction when\",\n",
    "    \"ms\" : \"miss\",\n",
    "    \"mte\" : \"my thoughts exactly\",\n",
    "    \"nagi\" : \"not a good idea\",\n",
    "    \"nbc\" : \"national broadcasting company\",\n",
    "    \"nbd\" : \"not big deal\",\n",
    "    \"nfs\" : \"not for sale\",\n",
    "    \"ngl\" : \"not going to lie\",\n",
    "    \"nhs\" : \"national health service\",\n",
    "    \"nrn\" : \"no reply necessary\",\n",
    "    \"nsfl\" : \"not safe for life\",\n",
    "    \"nsfw\" : \"not safe for work\",\n",
    "    \"nth\" : \"nice to have\",\n",
    "    \"nvr\" : \"never\",\n",
    "    \"nyc\" : \"new york city\",\n",
    "    \"oc\" : \"original content\",\n",
    "    \"og\" : \"original\",\n",
    "    \"ohp\" : \"overhead projector\",\n",
    "    \"oic\" : \"oh i see\",\n",
    "    \"omdb\" : \"over my dead body\",\n",
    "    \"omg\" : \"oh my god\",\n",
    "    \"omw\" : \"on my way\",\n",
    "    \"p.a\" : \"per annum\",\n",
    "    \"p.m\" : \"after midday\",\n",
    "    \"pm\" : \"prime minister\",\n",
    "    \"poc\" : \"people of color\",\n",
    "    \"pov\" : \"point of view\",\n",
    "    \"pp\" : \"pages\",\n",
    "    \"ppl\" : \"people\",\n",
    "    \"prw\" : \"parents are watching\",\n",
    "    \"ps\" : \"postscript\",\n",
    "    \"pt\" : \"point\",\n",
    "    \"ptb\" : \"please text back\",\n",
    "    \"pto\" : \"please turn over\",\n",
    "    \"qpsa\" : \"what happens\", #\"que pasa\",\n",
    "    \"ratchet\" : \"rude\",\n",
    "    \"rbtl\" : \"read between the lines\",\n",
    "    \"rlrt\" : \"real life retweet\", \n",
    "    \"rofl\" : \"rolling on the floor laughing\",\n",
    "    \"roflol\" : \"rolling on the floor laughing out loud\",\n",
    "    \"rotflmao\" : \"rolling on the floor laughing my ass off\",\n",
    "    \"rt\" : \"retweet\",\n",
    "    \"ruok\" : \"are you ok\",\n",
    "    \"sfw\" : \"safe for work\",\n",
    "    \"sk8\" : \"skate\",\n",
    "    \"smh\" : \"shake my head\",\n",
    "    \"sq\" : \"square\",\n",
    "    \"srsly\" : \"seriously\", \n",
    "    \"ssdd\" : \"same stuff different day\",\n",
    "    \"tbh\" : \"to be honest\",\n",
    "    \"tbs\" : \"tablespooful\",\n",
    "    \"tbsp\" : \"tablespooful\",\n",
    "    \"tfw\" : \"that feeling when\",\n",
    "    \"thks\" : \"thank you\",\n",
    "    \"tho\" : \"though\",\n",
    "    \"thx\" : \"thank you\",\n",
    "    \"tia\" : \"thanks in advance\",\n",
    "    \"til\" : \"today i learned\",\n",
    "    \"tl;dr\" : \"too long i did not read\",\n",
    "    \"tldr\" : \"too long i did not read\",\n",
    "    \"tmb\" : \"tweet me back\",\n",
    "    \"tntl\" : \"trying not to laugh\",\n",
    "    \"ttyl\" : \"talk to you later\",\n",
    "    \"u\" : \"you\",\n",
    "    \"u2\" : \"you too\",\n",
    "    \"u4e\" : \"yours for ever\",\n",
    "    \"utc\" : \"coordinated universal time\",\n",
    "    \"w/\" : \"with\",\n",
    "    \"w/o\" : \"without\",\n",
    "    \"w8\" : \"wait\",\n",
    "    \"wassup\" : \"what is up\",\n",
    "    \"wb\" : \"welcome back\",\n",
    "    \"wtf\" : \"what the fuck\",\n",
    "    \"wtg\" : \"way to go\",\n",
    "    \"wtpa\" : \"where the party at\",\n",
    "    \"wuf\" : \"where are you from\",\n",
    "    \"wuzup\" : \"what is up\",\n",
    "    \"wywh\" : \"wish you were here\",\n",
    "    \"yd\" : \"yard\",\n",
    "    \"ygtr\" : \"you got that right\",\n",
    "    \"ynk\" : \"you never know\",\n",
    "    \"zzz\" : \"sleeping bored and tired\"\n",
    "}\n"
   ]
  },
  {
   "cell_type": "code",
   "execution_count": 20,
   "id": "d8ee6d74",
   "metadata": {},
   "outputs": [],
   "source": [
    "#defining function to replace the slang words to appropriate words\n",
    "def replace_slang(text):\n",
    "    pattern = re.compile (r'\\b(' + '|'.join(re.escape(word) for word in slang_dict.keys()) + r')\\b')\n",
    "    return pattern.sub(lambda x: slang_dict[x.group()], text)"
   ]
  },
  {
   "cell_type": "code",
   "execution_count": 21,
   "id": "18049fd0",
   "metadata": {},
   "outputs": [
    {
     "data": {
      "text/plain": [
       "0          115712 I understand I would like to assist you...\n",
       "1               sprintcare and how do you propose we do that\n",
       "2          sprintcare I have sent several private message...\n",
       "3          115712 Please send us a Private Message so tha...\n",
       "4                                           sprintcare I did\n",
       "                                 ...                        \n",
       "1048570        When Morrisons does you good :raising_hands: \n",
       "1048571    393038  Along with your More card and address ...\n",
       "1048572                                          Morrisons  \n",
       "1048573    Morrisons watford bought crayfish tails the ot...\n",
       "1048574    393038 Hi Adam Im really sorry about this Can ...\n",
       "Name: text, Length: 1048575, dtype: object"
      ]
     },
     "execution_count": 21,
     "metadata": {},
     "output_type": "execute_result"
    }
   ],
   "source": [
    "data[\"text\"]=data[\"text\"].apply(replace_slang)\n",
    "data[\"text\"]"
   ]
  },
  {
   "cell_type": "markdown",
   "id": "6a6e3d45",
   "metadata": {},
   "source": [
    "### Removing Stopwords"
   ]
  },
  {
   "cell_type": "code",
   "execution_count": 22,
   "id": "74c93623",
   "metadata": {},
   "outputs": [
    {
     "name": "stderr",
     "output_type": "stream",
     "text": [
      "[nltk_data] Downloading package stopwords to\n",
      "[nltk_data]     C:\\Users\\pkalaiselvan\\AppData\\Roaming\\nltk_data...\n",
      "[nltk_data]   Package stopwords is already up-to-date!\n"
     ]
    },
    {
     "data": {
      "text/plain": [
       "True"
      ]
     },
     "execution_count": 22,
     "metadata": {},
     "output_type": "execute_result"
    }
   ],
   "source": [
    "nltk.download('stopwords')"
   ]
  },
  {
   "cell_type": "code",
   "execution_count": 23,
   "id": "f2ab3a12",
   "metadata": {},
   "outputs": [],
   "source": [
    "#Stopwords removal\n",
    "from nltk.corpus import stopwords"
   ]
  },
  {
   "cell_type": "code",
   "execution_count": 24,
   "id": "ccad3a80",
   "metadata": {},
   "outputs": [],
   "source": [
    "#defining function to remove stopwords\n",
    "def remove_stopwords(text):\n",
    "    stop_words = set(stopwords.words('english'))\n",
    "    words = text.split()\n",
    "    filtered_words = [word for word in words if word.lower() not in stop_words]\n",
    "    return ' '.join(filtered_words)"
   ]
  },
  {
   "cell_type": "code",
   "execution_count": 25,
   "id": "d1a8ac79",
   "metadata": {},
   "outputs": [],
   "source": [
    "data[\"text\"] = data[\"text\"].apply(remove_stopwords)"
   ]
  },
  {
   "cell_type": "code",
   "execution_count": 28,
   "id": "1c894039",
   "metadata": {},
   "outputs": [
    {
     "data": {
      "text/plain": [
       "0          115712 understand would like assist would need...\n",
       "1                                         sprintcare propose\n",
       "2          sprintcare sent several private messages one r...\n",
       "3          115712 Please send us Private Message assist c...\n",
       "4                                                 sprintcare\n",
       "                                 ...                        \n",
       "1048570                       Morrisons good :raising_hands:\n",
       "1048571    393038 Along card address details get sorted T...\n",
       "1048572                                            Morrisons\n",
       "1048573      Morrisons watford bought crayfish tails day eat\n",
       "1048574    393038 Hi Adam Im really sorry please tell bar...\n",
       "Name: text, Length: 1048575, dtype: object"
      ]
     },
     "execution_count": 28,
     "metadata": {},
     "output_type": "execute_result"
    }
   ],
   "source": [
    "data[\"text\"]"
   ]
  },
  {
   "cell_type": "markdown",
   "id": "8eacf11e",
   "metadata": {},
   "source": [
    "### Removing Whitespaces"
   ]
  },
  {
   "cell_type": "code",
   "execution_count": 26,
   "id": "6a6a755f",
   "metadata": {},
   "outputs": [
    {
     "data": {
      "text/plain": [
       "0          115712 understand would like assist would need...\n",
       "1                                         sprintcare propose\n",
       "2          sprintcare sent several private messages one r...\n",
       "3          115712 Please send us Private Message assist c...\n",
       "4                                                 sprintcare\n",
       "                                 ...                        \n",
       "1048570                       Morrisons good :raising_hands:\n",
       "1048571    393038 Along card address details get sorted T...\n",
       "1048572                                            Morrisons\n",
       "1048573      Morrisons watford bought crayfish tails day eat\n",
       "1048574    393038 Hi Adam Im really sorry please tell bar...\n",
       "Name: text, Length: 1048575, dtype: object"
      ]
     },
     "execution_count": 26,
     "metadata": {},
     "output_type": "execute_result"
    }
   ],
   "source": [
    "data[\"text\"] = data[\"text\"].str.strip()\n",
    "data[\"text\"]"
   ]
  },
  {
   "cell_type": "markdown",
   "id": "c09d85e3",
   "metadata": {},
   "source": [
    "### Tokenization"
   ]
  },
  {
   "cell_type": "code",
   "execution_count": 27,
   "id": "ec5749b9",
   "metadata": {},
   "outputs": [
    {
     "name": "stderr",
     "output_type": "stream",
     "text": [
      "[nltk_data] Downloading package punkt to\n",
      "[nltk_data]     C:\\Users\\pkalaiselvan\\AppData\\Roaming\\nltk_data...\n",
      "[nltk_data]   Package punkt is already up-to-date!\n"
     ]
    },
    {
     "data": {
      "text/plain": [
       "True"
      ]
     },
     "execution_count": 27,
     "metadata": {},
     "output_type": "execute_result"
    }
   ],
   "source": [
    "#downloading necessary package\n",
    "nltk.download('punkt')"
   ]
  },
  {
   "cell_type": "code",
   "execution_count": 28,
   "id": "51dda355",
   "metadata": {},
   "outputs": [],
   "source": [
    "#defining function for tokenization\n",
    "from nltk.tokenize import word_tokenize\n",
    "\n",
    "def tokenize_words(text):\n",
    "    return word_tokenize(text)\n",
    "\n",
    "##def tokenize_sentences(text):\n",
    " ##   return sent_tokenize(text)"
   ]
  },
  {
   "cell_type": "code",
   "execution_count": 29,
   "id": "e5542134",
   "metadata": {},
   "outputs": [
    {
     "data": {
      "text/plain": [
       "0          [115712, understand, would, like, assist, woul...\n",
       "1                                      [sprintcare, propose]\n",
       "2          [sprintcare, sent, several, private, messages,...\n",
       "3          [115712, Please, send, us, Private, Message, a...\n",
       "4                                               [sprintcare]\n",
       "                                 ...                        \n",
       "1048570               [Morrisons, good, :, raising_hands, :]\n",
       "1048571    [393038, Along, card, address, details, get, s...\n",
       "1048572                                          [Morrisons]\n",
       "1048573    [Morrisons, watford, bought, crayfish, tails, ...\n",
       "1048574    [393038, Hi, Adam, Im, really, sorry, please, ...\n",
       "Name: tokened_text, Length: 1048575, dtype: object"
      ]
     },
     "execution_count": 29,
     "metadata": {},
     "output_type": "execute_result"
    }
   ],
   "source": [
    "data[\"tokened_text\"] = data[\"text\"].apply(tokenize_words)\n",
    "data[\"tokened_text\"]"
   ]
  },
  {
   "cell_type": "markdown",
   "id": "846924a1",
   "metadata": {},
   "source": [
    "### Stemming and Lemmetization"
   ]
  },
  {
   "cell_type": "code",
   "execution_count": 30,
   "id": "a7640040",
   "metadata": {},
   "outputs": [],
   "source": [
    "#stemming and lemmetization\n",
    "from nltk.stem import PorterStemmer, WordNetLemmatizer"
   ]
  },
  {
   "cell_type": "code",
   "execution_count": 31,
   "id": "08b75c17",
   "metadata": {},
   "outputs": [
    {
     "name": "stderr",
     "output_type": "stream",
     "text": [
      "[nltk_data] Downloading package wordnet to\n",
      "[nltk_data]     C:\\Users\\pkalaiselvan\\AppData\\Roaming\\nltk_data...\n",
      "[nltk_data]   Package wordnet is already up-to-date!\n"
     ]
    },
    {
     "data": {
      "text/plain": [
       "True"
      ]
     },
     "execution_count": 31,
     "metadata": {},
     "output_type": "execute_result"
    }
   ],
   "source": [
    "#downloading necessary package\n",
    "#nltk.download('punkt')\n",
    "nltk.download('wordnet')"
   ]
  },
  {
   "cell_type": "code",
   "execution_count": 32,
   "id": "2bb5e10a",
   "metadata": {},
   "outputs": [],
   "source": [
    "#Initialize stemmer and lemmatizer\n",
    "stemmer = PorterStemmer()\n",
    "lemmatizer = WordNetLemmatizer()"
   ]
  },
  {
   "cell_type": "code",
   "execution_count": 34,
   "id": "1a6d25d6",
   "metadata": {},
   "outputs": [],
   "source": [
    "#Defining a function for Stemming\n",
    "def stem_text(text):\n",
    "    tokens = word_tokenize(text)\n",
    "    stemmed_tokens = [stemmer.stem(token) for token in tokens]\n",
    "    return ' '.join(stemmed_tokens)\n",
    "\n",
    "#Defining a function for lemmatization\n",
    "def lemmatize_text(text):\n",
    "    tokens = word_tokenize(text)\n",
    "    lemmatized_tokens = [lemmatizer.lemmatize(token) for token in tokens]\n",
    "    return ' '.join(lemmatized_tokens)"
   ]
  },
  {
   "cell_type": "code",
   "execution_count": 35,
   "id": "3242e0d1",
   "metadata": {},
   "outputs": [],
   "source": [
    "data[\"stemmed_text\"] = data[\"text\"].apply(stem_text)"
   ]
  },
  {
   "cell_type": "code",
   "execution_count": 36,
   "id": "66467a75",
   "metadata": {},
   "outputs": [],
   "source": [
    "data[\"lemmatize_text\"] = data[\"text\"].apply(lemmatize_text)"
   ]
  },
  {
   "cell_type": "code",
   "execution_count": 37,
   "id": "1f4c0a0b",
   "metadata": {},
   "outputs": [
    {
     "data": {
      "text/html": [
       "<div>\n",
       "<style scoped>\n",
       "    .dataframe tbody tr th:only-of-type {\n",
       "        vertical-align: middle;\n",
       "    }\n",
       "\n",
       "    .dataframe tbody tr th {\n",
       "        vertical-align: top;\n",
       "    }\n",
       "\n",
       "    .dataframe thead th {\n",
       "        text-align: right;\n",
       "    }\n",
       "</style>\n",
       "<table border=\"1\" class=\"dataframe\">\n",
       "  <thead>\n",
       "    <tr style=\"text-align: right;\">\n",
       "      <th></th>\n",
       "      <th>tweet_id</th>\n",
       "      <th>author_id</th>\n",
       "      <th>inbound</th>\n",
       "      <th>created_at</th>\n",
       "      <th>text</th>\n",
       "      <th>response_tweet_id</th>\n",
       "      <th>in_response_to_tweet_id</th>\n",
       "      <th>upper_case</th>\n",
       "      <th>lower_case</th>\n",
       "      <th>tokened_text</th>\n",
       "      <th>stemmed_text</th>\n",
       "      <th>lemmatize_text</th>\n",
       "    </tr>\n",
       "  </thead>\n",
       "  <tbody>\n",
       "    <tr>\n",
       "      <th>0</th>\n",
       "      <td>1</td>\n",
       "      <td>sprintcare</td>\n",
       "      <td>False</td>\n",
       "      <td>Tue Oct 31 22:10:47 +0000 2017</td>\n",
       "      <td>115712 understand would like assist would need...</td>\n",
       "      <td>2</td>\n",
       "      <td>3.0</td>\n",
       "      <td>@115712 I UNDERSTAND. I WOULD LIKE TO ASSIST Y...</td>\n",
       "      <td>@115712 i understand. i would like to assist y...</td>\n",
       "      <td>[115712, understand, would, like, assist, woul...</td>\n",
       "      <td>115712 understand would like assist would need...</td>\n",
       "      <td>115712 understand would like assist would need...</td>\n",
       "    </tr>\n",
       "    <tr>\n",
       "      <th>1</th>\n",
       "      <td>2</td>\n",
       "      <td>115712</td>\n",
       "      <td>True</td>\n",
       "      <td>Tue Oct 31 22:11:45 +0000 2017</td>\n",
       "      <td>sprintcare propose</td>\n",
       "      <td>NaN</td>\n",
       "      <td>1.0</td>\n",
       "      <td>@SPRINTCARE AND HOW DO YOU PROPOSE WE DO THAT</td>\n",
       "      <td>@sprintcare and how do you propose we do that</td>\n",
       "      <td>[sprintcare, propose]</td>\n",
       "      <td>sprintcar propos</td>\n",
       "      <td>sprintcare propose</td>\n",
       "    </tr>\n",
       "    <tr>\n",
       "      <th>2</th>\n",
       "      <td>3</td>\n",
       "      <td>115712</td>\n",
       "      <td>True</td>\n",
       "      <td>Tue Oct 31 22:08:27 +0000 2017</td>\n",
       "      <td>sprintcare sent several private messages one r...</td>\n",
       "      <td>1</td>\n",
       "      <td>4.0</td>\n",
       "      <td>@SPRINTCARE I HAVE SENT SEVERAL PRIVATE MESSAG...</td>\n",
       "      <td>@sprintcare i have sent several private messag...</td>\n",
       "      <td>[sprintcare, sent, several, private, messages,...</td>\n",
       "      <td>sprintcar sent sever privat messag one respond...</td>\n",
       "      <td>sprintcare sent several private message one re...</td>\n",
       "    </tr>\n",
       "    <tr>\n",
       "      <th>3</th>\n",
       "      <td>4</td>\n",
       "      <td>sprintcare</td>\n",
       "      <td>False</td>\n",
       "      <td>Tue Oct 31 21:54:49 +0000 2017</td>\n",
       "      <td>115712 Please send us Private Message assist c...</td>\n",
       "      <td>3</td>\n",
       "      <td>5.0</td>\n",
       "      <td>@115712 PLEASE SEND US A PRIVATE MESSAGE SO TH...</td>\n",
       "      <td>@115712 please send us a private message so th...</td>\n",
       "      <td>[115712, Please, send, us, Private, Message, a...</td>\n",
       "      <td>115712 pleas send us privat messag assist clic...</td>\n",
       "      <td>115712 Please send u Private Message assist cl...</td>\n",
       "    </tr>\n",
       "    <tr>\n",
       "      <th>4</th>\n",
       "      <td>5</td>\n",
       "      <td>115712</td>\n",
       "      <td>True</td>\n",
       "      <td>Tue Oct 31 21:49:35 +0000 2017</td>\n",
       "      <td>sprintcare</td>\n",
       "      <td>4</td>\n",
       "      <td>6.0</td>\n",
       "      <td>@SPRINTCARE I DID.</td>\n",
       "      <td>@sprintcare i did.</td>\n",
       "      <td>[sprintcare]</td>\n",
       "      <td>sprintcar</td>\n",
       "      <td>sprintcare</td>\n",
       "    </tr>\n",
       "  </tbody>\n",
       "</table>\n",
       "</div>"
      ],
      "text/plain": [
       "   tweet_id   author_id  inbound                      created_at  \\\n",
       "0         1  sprintcare    False  Tue Oct 31 22:10:47 +0000 2017   \n",
       "1         2      115712     True  Tue Oct 31 22:11:45 +0000 2017   \n",
       "2         3      115712     True  Tue Oct 31 22:08:27 +0000 2017   \n",
       "3         4  sprintcare    False  Tue Oct 31 21:54:49 +0000 2017   \n",
       "4         5      115712     True  Tue Oct 31 21:49:35 +0000 2017   \n",
       "\n",
       "                                                text response_tweet_id  \\\n",
       "0  115712 understand would like assist would need...                 2   \n",
       "1                                 sprintcare propose               NaN   \n",
       "2  sprintcare sent several private messages one r...                 1   \n",
       "3  115712 Please send us Private Message assist c...                 3   \n",
       "4                                         sprintcare                 4   \n",
       "\n",
       "   in_response_to_tweet_id                                         upper_case  \\\n",
       "0                      3.0  @115712 I UNDERSTAND. I WOULD LIKE TO ASSIST Y...   \n",
       "1                      1.0      @SPRINTCARE AND HOW DO YOU PROPOSE WE DO THAT   \n",
       "2                      4.0  @SPRINTCARE I HAVE SENT SEVERAL PRIVATE MESSAG...   \n",
       "3                      5.0  @115712 PLEASE SEND US A PRIVATE MESSAGE SO TH...   \n",
       "4                      6.0                                 @SPRINTCARE I DID.   \n",
       "\n",
       "                                          lower_case  \\\n",
       "0  @115712 i understand. i would like to assist y...   \n",
       "1      @sprintcare and how do you propose we do that   \n",
       "2  @sprintcare i have sent several private messag...   \n",
       "3  @115712 please send us a private message so th...   \n",
       "4                                 @sprintcare i did.   \n",
       "\n",
       "                                        tokened_text  \\\n",
       "0  [115712, understand, would, like, assist, woul...   \n",
       "1                              [sprintcare, propose]   \n",
       "2  [sprintcare, sent, several, private, messages,...   \n",
       "3  [115712, Please, send, us, Private, Message, a...   \n",
       "4                                       [sprintcare]   \n",
       "\n",
       "                                        stemmed_text  \\\n",
       "0  115712 understand would like assist would need...   \n",
       "1                                   sprintcar propos   \n",
       "2  sprintcar sent sever privat messag one respond...   \n",
       "3  115712 pleas send us privat messag assist clic...   \n",
       "4                                          sprintcar   \n",
       "\n",
       "                                      lemmatize_text  \n",
       "0  115712 understand would like assist would need...  \n",
       "1                                 sprintcare propose  \n",
       "2  sprintcare sent several private message one re...  \n",
       "3  115712 Please send u Private Message assist cl...  \n",
       "4                                         sprintcare  "
      ]
     },
     "execution_count": 37,
     "metadata": {},
     "output_type": "execute_result"
    }
   ],
   "source": [
    "#after all the above text pre-processing techniques applied in the dataset, the final output of the data\n",
    "data.head()"
   ]
  }
 ],
 "metadata": {
  "kernelspec": {
   "display_name": "Python 3 (ipykernel)",
   "language": "python",
   "name": "python3"
  },
  "language_info": {
   "codemirror_mode": {
    "name": "ipython",
    "version": 3
   },
   "file_extension": ".py",
   "mimetype": "text/x-python",
   "name": "python",
   "nbconvert_exporter": "python",
   "pygments_lexer": "ipython3",
   "version": "3.9.7"
  }
 },
 "nbformat": 4,
 "nbformat_minor": 5
}
